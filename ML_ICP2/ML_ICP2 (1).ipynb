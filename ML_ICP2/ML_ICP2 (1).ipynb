{
 "cells": [
  {
   "cell_type": "code",
   "execution_count": 1,
   "id": "9868ae94",
   "metadata": {},
   "outputs": [
    {
     "name": "stdout",
     "output_type": "stream",
     "text": [
      "* \n",
      "* * \n",
      "* * * \n",
      "* * * * \n",
      "* * * * * \n",
      "* * * * \n",
      "* * * \n",
      "* * \n",
      "* \n"
     ]
    }
   ],
   "source": [
    "#Likhitha Vempati\n",
    "#700757827\n",
    "\n",
    "#printing pyramid pattern    \n",
    "n=5\n",
    "for i in range(n):\n",
    "    for j in range(i + 1):\n",
    "        print('*', end=' ')\n",
    "    print()\n",
    "    \n",
    "for i in range(n - 1, 0, -1):\n",
    "    for j in range(i):\n",
    "        print('*', end=' ')\n",
    "    print()\n",
    "    "
   ]
  },
  {
   "cell_type": "code",
   "execution_count": 2,
   "id": "507116f6",
   "metadata": {},
   "outputs": [
    {
     "name": "stdout",
     "output_type": "stream",
     "text": [
      "20\n",
      "40\n",
      "60\n",
      "80\n",
      "100\n"
     ]
    }
   ],
   "source": [
    "#printing values of odd indices in the list\n",
    "my_list = [10, 20, 30, 40, 50, 60, 70, 80, 90, 100] \n",
    "\n",
    "for i in range(len(my_list)):\n",
    "    if(i%2 !=0):\n",
    "        print(my_list[i])\n",
    "    "
   ]
  },
  {
   "cell_type": "code",
   "execution_count": 3,
   "id": "17a928df",
   "metadata": {},
   "outputs": [
    {
     "name": "stdout",
     "output_type": "stream",
     "text": [
      "[23, 'Python', 23.98]\n",
      "[<class 'int'>, <class 'str'>, <class 'float'>]\n"
     ]
    }
   ],
   "source": [
    "#getting the type of each element of given list and appending it to list\n",
    "x = [23, 'Python', 23.98]\n",
    "t=[]\n",
    "for i in x:\n",
    "    t.append(type(i))\n",
    "print(x)    \n",
    "print(t)    "
   ]
  },
  {
   "cell_type": "code",
   "execution_count": 4,
   "id": "13db0d17",
   "metadata": {},
   "outputs": [
    {
     "name": "stdout",
     "output_type": "stream",
     "text": [
      "8\n",
      "1\n",
      "2\n",
      "3\n",
      "3\n",
      "3\n",
      "3\n",
      "4\n",
      "5\n",
      "Sample List: ['1', '2', '3', '3', '3', '3', '4', '5']\n",
      "Unique List: ['1', '2', '3', '4', '5']\n"
     ]
    }
   ],
   "source": [
    "#getting unique elements of a list from the given list\n",
    "def unique_list():\n",
    "    n=int(input())\n",
    "    list1=[]\n",
    "    uni_list=[]\n",
    "    set1=set()\n",
    "    for i in range(n):\n",
    "        list1.append(input())\n",
    "    for item in list1:\n",
    "        if item not in set1:\n",
    "            uni_list.append(item)\n",
    "            set1.add(item)\n",
    "            \n",
    "    return list1,uni_list\n",
    "\n",
    "\n",
    "list1,list2=unique_list()   \n",
    "print('Sample List:',list1)\n",
    "print('Unique List:',list2)\n",
    " "
   ]
  },
  {
   "cell_type": "code",
   "execution_count": 5,
   "id": "9d57a2e7",
   "metadata": {},
   "outputs": [
    {
     "name": "stdout",
     "output_type": "stream",
     "text": [
      "The quick Brow Fox\n",
      "No. of Upper-case characters: 3\n",
      "No. of Lower-case Characters: 12\n"
     ]
    }
   ],
   "source": [
    "#Printing the number of uppercase and lowercase letters in given string\n",
    "def count():\n",
    "    string=input()\n",
    "    upper=0\n",
    "    lower=0\n",
    "    for char in string:\n",
    "        if char.isupper():\n",
    "            upper+=1\n",
    "        elif char.islower():\n",
    "            lower+=1\n",
    "    return upper,lower        \n",
    "                \n",
    "\n",
    "upper,lower=count()\n",
    "print('No. of Upper-case characters:',upper)\n",
    "print('No. of Lower-case Characters:',lower)\n",
    "\n",
    "        \n",
    "    "
   ]
  }
 ],
 "metadata": {
  "kernelspec": {
   "display_name": "Python 3 (ipykernel)",
   "language": "python",
   "name": "python3"
  },
  "language_info": {
   "codemirror_mode": {
    "name": "ipython",
    "version": 3
   },
   "file_extension": ".py",
   "mimetype": "text/x-python",
   "name": "python",
   "nbconvert_exporter": "python",
   "pygments_lexer": "ipython3",
   "version": "3.11.5"
  }
 },
 "nbformat": 4,
 "nbformat_minor": 5
}
