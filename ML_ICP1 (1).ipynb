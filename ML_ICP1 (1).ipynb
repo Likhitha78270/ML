{
 "cells": [
  {
   "cell_type": "code",
   "execution_count": 1,
   "id": "43b240cb",
   "metadata": {},
   "outputs": [
    {
     "name": "stdout",
     "output_type": "stream",
     "text": [
      "Sorted ages: [19, 19, 20, 22, 24, 24, 24, 25, 25, 26]\n",
      "Min age: 19\n",
      "Max age: 26\n",
      "Updated sorted ages: [19, 19, 19, 20, 22, 24, 24, 24, 25, 25, 26, 26]\n",
      "Median age: 24.0\n",
      "Average age: 22.75\n",
      "Range of ages: 7\n"
     ]
    }
   ],
   "source": [
    "#Student name:Likhitha Vempati\n",
    "#ID:700757827    \n",
    "# List of ages\n",
    "ages = [19, 22, 19, 24, 20, 25, 26, 24, 25, 24]\n",
    "\n",
    "# Sort the list\n",
    "ages.sort()\n",
    "print(f\"Sorted ages: {ages}\")\n",
    "\n",
    "# Find the min and max age\n",
    "min_age = ages[0]\n",
    "max_age = ages[-1]\n",
    "print(f\"Min age: {min_age}\")\n",
    "print(f\"Max age: {max_age}\")\n",
    "\n",
    "# Add the min age and the max age again to the list\n",
    "ages.append(min_age)\n",
    "ages.append(max_age)\n",
    "\n",
    "# Re-sort the list after adding min and max ages\n",
    "ages.sort()\n",
    "print(f\"Updated sorted ages: {ages}\")\n",
    "\n",
    "# Find the median age\n",
    "n = len(ages)\n",
    "if n % 2 == 0:\n",
    "    median_age = (ages[n//2 - 1] + ages[n//2]) / 2\n",
    "else:\n",
    "    median_age = ages[n//2]\n",
    "print(f\"Median age: {median_age}\")\n",
    "\n",
    "# Find the average age\n",
    "average_age = sum(ages) / n\n",
    "print(f\"Average age: {average_age}\")\n",
    "\n",
    "# Find the range of the ages\n",
    "age_range = max_age - min_age\n",
    "print(f\"Range of ages: {age_range}\")"
   ]
  },
  {
   "cell_type": "code",
   "execution_count": 2,
   "id": "76e06c63",
   "metadata": {},
   "outputs": [
    {
     "name": "stdout",
     "output_type": "stream",
     "text": [
      "Dog Dictionary:\n",
      "{'name': 'chow chow', 'color': 'white', 'breed': 'Husky', 'legs': 4, 'age': 5}\n",
      "\n",
      "Student Dictionary:\n",
      "{'first_name': 'George', 'last_name': 'Hamilton', 'gender': 'Male', 'age': 26, 'marital_status': 'Married', 'skills': ['Data Analysis'], 'country': 'USA', 'city': 'Chicago', 'address': 'Ash St'}\n",
      "\n",
      "Length of the student dictionary: 9\n",
      "\n",
      "Skills: ['Data Analysis']\n",
      "Data type of skills: <class 'list'>\n",
      "\n",
      "Updated skills: ['Data Analysis', 'Python', 'Machine Learning']\n",
      "\n",
      "Student dictionary keys: ['first_name', 'last_name', 'gender', 'age', 'marital_status', 'skills', 'country', 'city', 'address']\n",
      "Student dictionary values: ['George', 'Hamilton', 'Male', 26, 'Married', ['Data Analysis', 'Python', 'Machine Learning'], 'USA', 'Chicago', 'Ash St']\n"
     ]
    }
   ],
   "source": [
    "# Create an empty dictionary called dog\n",
    "dog = {}\n",
    "\n",
    "# Add name, color, breed, legs, age to the dog dictionary\n",
    "dog['name'] = 'chow chow'\n",
    "dog['color'] = 'white'\n",
    "dog['breed'] = 'Husky'\n",
    "dog['legs'] = 4\n",
    "dog['age'] = 5\n",
    "\n",
    "print(\"Dog Dictionary:\")\n",
    "print(dog)\n",
    "\n",
    "# Create a student dictionary with specified keys\n",
    "student = {\n",
    "    'first_name': 'George',\n",
    "    'last_name': 'Hamilton',\n",
    "    'gender': 'Male',\n",
    "    'age': 26,\n",
    "    'marital_status': 'Married',\n",
    "    'skills': [ 'Data Analysis'],\n",
    "    'country': 'USA',\n",
    "    'city': 'Chicago',\n",
    "    'address': 'Ash St'\n",
    "}\n",
    "\n",
    "print(\"\\nStudent Dictionary:\")\n",
    "print(student)\n",
    "\n",
    "# Get the length of the student dictionary\n",
    "student_length = len(student)\n",
    "print(\"\\nLength of the student dictionary:\", student_length)\n",
    "\n",
    "# Get the value of skills and check the data type\n",
    "skills = student['skills']\n",
    "print(\"\\nSkills:\", skills)\n",
    "print(\"Data type of skills:\", type(skills))\n",
    "\n",
    "# Modify the skills values by adding one or two skills\n",
    "student['skills'].append('Python')\n",
    "student['skills'].append('Machine Learning')\n",
    "\n",
    "print(\"\\nUpdated skills:\", student['skills'])\n",
    "\n",
    "# Get the dictionary keys as a list\n",
    "student_keys = list(student.keys())\n",
    "print(\"\\nStudent dictionary keys:\", student_keys)\n",
    "\n",
    "# Get the dictionary values as a list\n",
    "student_values = list(student.values())\n",
    "print(\"Student dictionary values:\", student_values)"
   ]
  },
  {
   "cell_type": "code",
   "execution_count": 3,
   "id": "2a0392ce",
   "metadata": {},
   "outputs": [
    {
     "name": "stdout",
     "output_type": "stream",
     "text": [
      "Siblings: ('Stephanie', 'Beth', 'Catherine', 'Mike', 'John', 'Brian')\n",
      "Number of siblings: 6\n",
      "Family members: ('Stephanie', 'Beth', 'Catherine', 'Mike', 'John', 'Brian', 'Christie', 'Doug')\n"
     ]
    }
   ],
   "source": [
    "# Create a tuple containing names of your sisters and your brothers (imaginary siblings are fine)\n",
    "sisters = ('Stephanie', 'Beth', 'Catherine')\n",
    "brothers = ('Mike', 'John', 'Brian')\n",
    "\n",
    "# Join brothers and sisters tuples and assign it to siblings\n",
    "siblings = sisters + brothers\n",
    "\n",
    "# Print siblings\n",
    "print(\"Siblings:\", siblings)\n",
    "\n",
    "# How many siblings do you have?\n",
    "num_siblings = len(siblings)\n",
    "print(\"Number of siblings:\", num_siblings)\n",
    "\n",
    "# Modify the siblings tuple and add the name of your father and mother and assign it to family_members\n",
    "parents = ('Christie', 'Doug')\n",
    "family_members = siblings + parents\n",
    "\n",
    "# Print family members\n",
    "print(\"Family members:\", family_members)"
   ]
  },
  {
   "cell_type": "code",
   "execution_count": 4,
   "id": "c396a050",
   "metadata": {},
   "outputs": [
    {
     "name": "stdout",
     "output_type": "stream",
     "text": [
      "Length of it_companies: 7\n",
      "\n",
      "IT companies after adding 'Twitter': {'Google', 'Twitter', 'Facebook', 'Microsoft', 'Oracle', 'Amazon', 'IBM', 'Apple'}\n",
      "\n",
      "IT companies after adding multiple companies: {'Google', 'Facebook', 'Oracle', 'Amazon', 'Twitter', 'LinkedIn', 'TikTok', 'Microsoft', 'Snapchat', 'IBM', 'Apple'}\n",
      "\n",
      "IT companies after removing 'Oracle': {'Google', 'Facebook', 'Amazon', 'Twitter', 'LinkedIn', 'TikTok', 'Microsoft', 'Snapchat', 'IBM', 'Apple'}\n",
      "\n",
      "A union B: {19, 20, 22, 24, 25, 26, 27, 28}\n",
      "A intersection B: {19, 20, 22, 24, 25, 26}\n",
      "Is A subset of B: True\n",
      "Are A and B disjoint sets: False\n",
      "\n",
      "A updated with B: {19, 20, 22, 24, 25, 26, 27, 28}\n",
      "B updated with A: {19, 20, 22, 24, 25, 26, 27, 28}\n",
      "Symmetric difference between A and B: {27, 28}\n",
      "\n",
      "Sets A and B deleted.\n",
      "\n",
      "Length of age list: 8\n",
      "Length of age set: 5\n"
     ]
    }
   ],
   "source": [
    "# Define the initial sets and list\n",
    "it_companies = {'Facebook', 'Google', 'Microsoft', 'Apple', 'IBM', 'Oracle', 'Amazon'}\n",
    "A = {19, 22, 24, 20, 25, 26}\n",
    "B = {19, 22, 20, 25, 26, 24, 28, 27}\n",
    "age = [22, 19, 24, 25, 26, 24, 25, 24]\n",
    "\n",
    "# Find the length of the set it_companies\n",
    "length_it_companies = len(it_companies)\n",
    "print(\"Length of it_companies:\", length_it_companies)\n",
    "\n",
    "# Add 'Twitter' to it_companies\n",
    "it_companies.add('Twitter')\n",
    "print(\"\\nIT companies after adding 'Twitter':\", it_companies)\n",
    "\n",
    "# Insert multiple IT companies at once to the set it_companies\n",
    "it_companies.update({'LinkedIn', 'Snapchat', 'TikTok'})\n",
    "print(\"\\nIT companies after adding multiple companies:\", it_companies)\n",
    "\n",
    "# Remove one of the companies from the set it_companies\n",
    "it_companies.remove('Oracle')\n",
    "print(\"\\nIT companies after removing 'Oracle':\", it_companies)\n",
    "\n",
    "# What is the difference between remove and discard\n",
    "# `remove` will raise a KeyError if the item does not exist in the set\n",
    "# `discard` will not raise an error if the item does not exist\n",
    "it_companies.discard('NonExistentCompany')  # Will not raise an error\n",
    "\n",
    "# Join A and B\n",
    "A_union_B = A.union(B)\n",
    "print(\"\\nA union B:\", A_union_B)\n",
    "\n",
    "# Find A intersection B\n",
    "A_intersection_B = A.intersection(B)\n",
    "print(\"A intersection B:\", A_intersection_B)\n",
    "# Is A subset of B\n",
    "A_subset_B = A.issubset(B)\n",
    "print(\"Is A subset of B:\", A_subset_B)\n",
    "\n",
    "# Are A and B disjoint sets\n",
    "A_disjoint_B = A.isdisjoint(B)\n",
    "print(\"Are A and B disjoint sets:\", A_disjoint_B)\n",
    "\n",
    "# Join A with B and B with A\n",
    "A_update_B = A.copy()\n",
    "A_update_B.update(B)\n",
    "B_update_A = B.copy()\n",
    "B_update_A.update(A)\n",
    "print(\"\\nA updated with B:\", A_update_B)\n",
    "print(\"B updated with A:\", B_update_A)\n",
    "\n",
    "# What is the symmetric difference between A and B\n",
    "A_symmetric_difference_B = A.symmetric_difference(B)\n",
    "print(\"Symmetric difference between A and B:\", A_symmetric_difference_B)\n",
    "\n",
    "# Delete the sets completely\n",
    "del A\n",
    "del B\n",
    "print(\"\\nSets A and B deleted.\")\n",
    "\n",
    "# Convert the ages to a set and compare the length of the list and the set\n",
    "age_set = set(age)\n",
    "print(\"\\nLength of age list:\", len(age))\n",
    "print(\"Length of age set:\", len(age_set))"
   ]
  },
  {
   "cell_type": "code",
   "execution_count": 5,
   "id": "2f9e1894",
   "metadata": {},
   "outputs": [
    {
     "name": "stdout",
     "output_type": "stream",
     "text": [
      "Area of the circle: 2827.4333882308138\n",
      "Circumference of the circle: 188.49555921538757\n",
      "Enter the radius of the circle: 30\n",
      "Area of the circle with radius 30.0 is: 2827.4333882308138\n"
     ]
    }
   ],
   "source": [
    "import math\n",
    "\n",
    "# Given radius\n",
    "radius = 30\n",
    "\n",
    "# Calculate  area of a circle\n",
    "_area_of_circle_ = math.pi * radius ** 2\n",
    "\n",
    "# Calculate  circumference of a circle\n",
    "_circum_of_circle_ = 2 * math.pi * radius\n",
    "\n",
    "# Display  calculated area and circumference\n",
    "print(\"Area of the circle:\", _area_of_circle_)\n",
    "print(\"Circumference of the circle:\", _circum_of_circle_)\n",
    "\n",
    "# Take radius as user input and calculate area\n",
    "user_radius = float(input(\"Enter the radius of the circle: \"))\n",
    "user_area_of_circle = math.pi * user_radius ** 2\n",
    "print(\"Area of the circle with radius\", user_radius, \"is:\", user_area_of_circle)"
   ]
  },
  {
   "cell_type": "code",
   "execution_count": 6,
   "id": "a83da9e6",
   "metadata": {},
   "outputs": [
    {
     "name": "stdout",
     "output_type": "stream",
     "text": [
      "Unique words: {'I', 'a', 'am', 'love', 'teacher', 'and', 'to', 'people', 'inspire', 'teach'}\n",
      "Number of unique words: 10\n"
     ]
    }
   ],
   "source": [
    "# Given sentence\n",
    "sentence = \"I am a teacher and I love to inspire and teach people\"\n",
    "\n",
    "# Split the sentence into words\n",
    "words = sentence.split()\n",
    "\n",
    "# Convert the list of words to a set to get unique words\n",
    "unique_words = set(words)\n",
    "\n",
    "# Find the number of unique words\n",
    "num_unique_words = len(unique_words)\n",
    "\n",
    "# Print the unique words and their count\n",
    "print(\"Unique words:\", unique_words)\n",
    "print(\"Number of unique words:\", num_unique_words)"
   ]
  },
  {
   "cell_type": "code",
   "execution_count": 7,
   "id": "c08c2b0a",
   "metadata": {},
   "outputs": [
    {
     "name": "stdout",
     "output_type": "stream",
     "text": [
      "Name\tAge\tCountry\tCity\n",
      "Asabeneh\t250\tFinland\tHelsinki\n"
     ]
    }
   ],
   "source": [
    "# Print the lines with tab escape sequence\n",
    "print(\"Name\\tAge\\tCountry\\tCity\")\n",
    "print(\"Asabeneh\\t250\\tFinland\\tHelsinki\")"
   ]
  },
  {
   "cell_type": "code",
   "execution_count": 8,
   "id": "8d84b69b",
   "metadata": {},
   "outputs": [
    {
     "name": "stdout",
     "output_type": "stream",
     "text": [
      "The area of a circle with radius 10 is 314.0 meters square.\n"
     ]
    }
   ],
   "source": [
    "# Define the radius and calculate the area\n",
    "radius = 10\n",
    "area = 3.14 * radius ** 2\n",
    "\n",
    "# Use string formatting to display the statement\n",
    "output = \"The area of a circle with radius {} is {} meters square.\".format(radius, area)\n",
    "print(output)"
   ]
  },
  {
   "cell_type": "code",
   "execution_count": 9,
   "id": "203b4881",
   "metadata": {},
   "outputs": [
    {
     "name": "stdout",
     "output_type": "stream",
     "text": [
      "Enter the number of students: 4\n",
      "Enter the weight of student 1 (in lbs): 150\n",
      "Enter the weight of student 2 (in lbs): 155\n",
      "Enter the weight of student 3 (in lbs): 145\n",
      "Enter the weight of student 4 (in lbs): 148\n",
      "Weights in kilograms: [68.04, 70.31, 65.77, 67.13]\n"
     ]
    }
   ],
   "source": [
    "# Read the number of students from the user\n",
    "N = int(input(\"Enter the number of students: \"))\n",
    "\n",
    "# Initialize lists to store weights in pounds and kilograms\n",
    "weights_lbs = []\n",
    "weights_kgs = []\n",
    "\n",
    "# Read weights of N students into a list\n",
    "for i in range(N):\n",
    "    weight_lbs = float(input(f\"Enter the weight of student {i+1} (in lbs): \"))\n",
    "    weights_lbs.append(weight_lbs)\n",
    "\n",
    "# Convert weights from pounds to kilograms and store them in a separate list\n",
    "for weight_lbs in weights_lbs:\n",
    "    weight_kgs = weight_lbs * 0.453592  # 1 pound = 0.453592 kilograms\n",
    "    weights_kgs.append(round(weight_kgs, 2))\n",
    "\n",
    "# Print the converted weights in kilograms\n",
    "print(\"Weights in kilograms:\", weights_kgs)"
   ]
  }
 ],
 "metadata": {
  "kernelspec": {
   "display_name": "Python 3 (ipykernel)",
   "language": "python",
   "name": "python3"
  },
  "language_info": {
   "codemirror_mode": {
    "name": "ipython",
    "version": 3
   },
   "file_extension": ".py",
   "mimetype": "text/x-python",
   "name": "python",
   "nbconvert_exporter": "python",
   "pygments_lexer": "ipython3",
   "version": "3.11.5"
  }
 },
 "nbformat": 4,
 "nbformat_minor": 5
}
