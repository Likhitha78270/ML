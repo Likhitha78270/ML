{
 "cells": [
  {
   "cell_type": "code",
   "execution_count": 2,
   "id": "5b279d30",
   "metadata": {},
   "outputs": [
    {
     "name": "stdout",
     "output_type": "stream",
     "text": [
      "Random Vector of size 15:\n",
      " [16 14  9 17  5 19 16  1  9 13 20 16  5  9 16]\n",
      "\n",
      "Reshaped Array (3x5):\n",
      " [[16 14  9 17  5]\n",
      " [19 16  1  9 13]\n",
      " [20 16  5  9 16]]\n",
      "\n",
      "Array Shape: (3, 5)\n",
      "\n",
      "2-D Array (4x3):\n",
      " [[0 0 0]\n",
      " [0 0 0]\n",
      " [0 0 0]\n",
      " [0 0 0]]\n",
      "\n",
      "Array Shape: (4, 3)\n",
      "Array Type: <class 'numpy.ndarray'>\n",
      "Array Data Type: int32\n"
     ]
    }
   ],
   "source": [
    "#Likhitha Vempati\n",
    "#700757827\n",
    "\n",
    "import numpy as np\n",
    "\n",
    "#Create a random vector of size 15 with integers in the range 1-20\n",
    "vector = np.random.randint(1, 21, size=15)\n",
    "print(\"Random Vector of size 15:\\n\", vector)\n",
    "\n",
    "#Reshape the array to 3 by 5\n",
    "reshaped_array = vector.reshape(3, 5)\n",
    "print(\"\\nReshaped Array (3x5):\\n\", reshaped_array)\n",
    "\n",
    "#Print the array shape\n",
    "print(\"\\nArray Shape:\", reshaped_array.shape)\n",
    "\n",
    "#Replace the max in each row by 0\n",
    "for row in reshaped_array:\n",
    "    row[row == np.max(row)] = 0\n",
    "\n",
    "\n",
    "#Create a 2-dimensional array of size 4x3 composed of 4-byte integer elements\n",
    "array_2d = np.zeros((4, 3), dtype=np.int32)\n",
    "print(\"\\n2-D Array (4x3):\\n\", array_2d)\n",
    "\n",
    "# Print the shape, type, and data type of the array\n",
    "print(\"\\nArray Shape:\", array_4x3.shape)\n",
    "print(\"Array Type:\", type(array_4x3))\n",
    "print(\"Array Data Type:\", array_4x3.dtype)\n"
   ]
  },
  {
   "cell_type": "code",
   "execution_count": 3,
   "id": "ae57b206",
   "metadata": {},
   "outputs": [
    {
     "name": "stdout",
     "output_type": "stream",
     "text": [
      "Eigenvalues:\n",
      " [2. 1.]\n",
      "\n",
      "Right Eigenvectors:\n",
      " [[0.89442719 0.70710678]\n",
      " [0.4472136  0.70710678]]\n"
     ]
    }
   ],
   "source": [
    "import numpy as np\n",
    "\n",
    "# Define the given square array\n",
    "matrix = np.array([[3, -2], [1, 0]])\n",
    "\n",
    "# Compute  eigenvalues and right eigenvectors\n",
    "eigenvalues, eigenvectors = np.linalg.eig(matrix)\n",
    "\n",
    "# Print the eigenvalues and right eigenvectors\n",
    "print(\"Eigenvalues:\\n\", eigenvalues)\n",
    "print(\"\\nRight Eigenvectors:\\n\", eigenvectors)\n"
   ]
  },
  {
   "cell_type": "code",
   "execution_count": 4,
   "id": "82025108",
   "metadata": {},
   "outputs": [
    {
     "name": "stdout",
     "output_type": "stream",
     "text": [
      "Sum of the diagonal elements: 4\n"
     ]
    }
   ],
   "source": [
    "import numpy as np\n",
    "\n",
    "# Define the array\n",
    "arr = np.array([[0, 1, 2], [3, 4, 5]])\n",
    "\n",
    "# Compute the sum of the diagonal elements\n",
    "diagonal_sum = np.trace(arr)\n",
    "\n",
    "# Print the sum of the diagonal elements\n",
    "print(\"Sum of the diagonal elements:\", diagonal_sum)\n"
   ]
  },
  {
   "cell_type": "code",
   "execution_count": 5,
   "id": "4acbc0e0",
   "metadata": {},
   "outputs": [
    {
     "name": "stdout",
     "output_type": "stream",
     "text": [
      "Original 3x2 array:\n",
      " [[1 2]\n",
      " [3 4]\n",
      " [5 6]]\n",
      "\n",
      "Reshaped 2x3 array:\n",
      " [[1 2 3]\n",
      " [4 5 6]]\n"
     ]
    }
   ],
   "source": [
    "import numpy as np\n",
    "\n",
    "# Define the original 3x2 array\n",
    "original_array = np.array([[1, 2], [3, 4], [5, 6]])\n",
    "\n",
    "# Reshape the array to 2x3\n",
    "reshaped_array = original_array.reshape(2, 3)\n",
    "\n",
    "# Print the reshaped array\n",
    "print(\"Original 3x2 array:\\n\", original_array)\n",
    "print(\"\\nReshaped 2x3 array:\\n\", reshaped_array)\n"
   ]
  }
 ],
 "metadata": {
  "kernelspec": {
   "display_name": "Python 3 (ipykernel)",
   "language": "python",
   "name": "python3"
  },
  "language_info": {
   "codemirror_mode": {
    "name": "ipython",
    "version": 3
   },
   "file_extension": ".py",
   "mimetype": "text/x-python",
   "name": "python",
   "nbconvert_exporter": "python",
   "pygments_lexer": "ipython3",
   "version": "3.11.5"
  }
 },
 "nbformat": 4,
 "nbformat_minor": 5
}
